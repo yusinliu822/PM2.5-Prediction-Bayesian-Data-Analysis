{
 "cells": [
  {
   "cell_type": "code",
   "execution_count": null,
   "metadata": {},
   "outputs": [],
   "source": [
    "import numpy as np\n",
    "import pandas as pd\n",
    "import os"
   ]
  },
  {
   "cell_type": "code",
   "execution_count": null,
   "metadata": {},
   "outputs": [],
   "source": [
    "# Read data and concatenate\n",
    "DIRECTORY = '../data/'\n",
    "NAMEBASE = 'EPA_OD_'\n",
    "DATAYEARS = ['2021', '2022']\n",
    "\n",
    "df_pm25 = pd.DataFrame()\n",
    "cols = []\n",
    "for yr in DATAYEARS:\n",
    "    for month in range(1, 13):\n",
    "        month = str(month).zfill(2)\n",
    "        path = DIRECTORY + NAMEBASE + yr + month + '.csv'\n",
    "        if not os.path.exists(path):\n",
    "            break\n",
    "        df = pd.read_csv(path, low_memory=False)\n",
    "        if len(cols) == 0:\n",
    "            cols = df.columns\n",
    "        assert (cols == df.columns).all(), f'Columns do not match {yr}{month}\\n{cols}\\n{df.columns}'\n",
    "        df_pm25 = pd.concat([df_pm25, df], ignore_index=True)\n",
    "df_pm25.info()"
   ]
  },
  {
   "cell_type": "code",
   "execution_count": null,
   "metadata": {},
   "outputs": [],
   "source": [
    "df_pm25.to_csv(DIRECTORY + 'pm25.csv', index=False)"
   ]
  }
 ],
 "metadata": {
  "kernelspec": {
   "display_name": "pymc3",
   "language": "python",
   "name": "python3"
  },
  "language_info": {
   "codemirror_mode": {
    "name": "ipython",
    "version": 3
   },
   "file_extension": ".py",
   "mimetype": "text/x-python",
   "name": "python",
   "nbconvert_exporter": "python",
   "pygments_lexer": "ipython3",
   "version": "3.8.16"
  },
  "orig_nbformat": 4
 },
 "nbformat": 4,
 "nbformat_minor": 2
}
